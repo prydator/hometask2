{
 "cells": [
  {
   "cell_type": "code",
   "execution_count": 241,
   "metadata": {},
   "outputs": [],
   "source": [
    "import requests\n",
    "import json\n",
    "from tqdm.auto import tqdm\n",
    "from collections import defaultdict\n",
    "import pickle \n",
    "import pandas as pd\n",
    "import pandas as pd\n",
    "import requests\n",
    "from tqdm.auto import tqdm\n",
    "import os"
   ]
  },
  {
   "cell_type": "code",
   "execution_count": 289,
   "metadata": {},
   "outputs": [],
   "source": [
    "sber = '3529'\n",
    "page = page\n",
    "num_per_page = 100\n",
    "moscow = 1\n",
    "url = f'https://api.hh.ru/vacancies?employer_id={sber}&page={page}&per_page={num_per_page}&area={moscow}'"
   ]
  },
  {
   "cell_type": "code",
   "execution_count": 290,
   "metadata": {},
   "outputs": [],
   "source": [
    "res = requests.get(url)"
   ]
  },
  {
   "cell_type": "code",
   "execution_count": 291,
   "metadata": {},
   "outputs": [],
   "source": [
    "vacancies = res.json()\n",
    "num_pages = vacancies.get('pages')\n",
    "vacancy_ids = [el.get('id') for el in vacancies.get('items')]"
   ]
  },
  {
   "cell_type": "code",
   "execution_count": 214,
   "metadata": {},
   "outputs": [],
   "source": [
    "# Задание вытащить все вакансии СБЕРа с ХХ (у апи есть ограничение в 2000, подумайте как его обойти)\n",
    "# Вытащите все описания этих вакансий\n",
    "# Создайте аналогичный vacancy DataFrame только добавьте поле skills\n",
    "# Переведите даты публикаций в datetime\n",
    "# Постройте график опубликованных вакансий по датам\n",
    "# Переведите даты в дни недели, и определите день недели, в который больше всего публикуют вакансий\n",
    "# Найдите те вакансии с использованием python, которые вам интересны\n",
    "# Определите по полю skills какие навыки больше всего востребованы для этих вакансий, и\n",
    "# Постройте график наиболее востребованных вакансий"
   ]
  },
  {
   "cell_type": "code",
   "execution_count": 279,
   "metadata": {},
   "outputs": [],
   "source": [
    "def getPage(page=0):\n",
    "    sber = '3529'\n",
    "    num_per_page = 100\n",
    "    moscow = 1\n",
    "    url = f'https://api.hh.ru/vacancies?employer_id={sber}&page={page}&per_page={num_per_page}&area={moscow}'\n",
    "    res = requests.get(url)\n"
   ]
  },
  {
   "cell_type": "code",
   "execution_count": 285,
   "metadata": {},
   "outputs": [
    {
     "data": {
      "application/vnd.jupyter.widget-view+json": {
       "model_id": "00aa51fc8ce54f81a12a9105ebeebb35",
       "version_major": 2,
       "version_minor": 0
      },
      "text/plain": [
       "HBox(children=(HTML(value=''), FloatProgress(value=0.0), HTML(value='')))"
      ]
     },
     "metadata": {},
     "output_type": "display_data"
    },
    {
     "name": "stdout",
     "output_type": "stream",
     "text": [
      "\n"
     ]
    },
    {
     "data": {
      "application/vnd.jupyter.widget-view+json": {
       "model_id": "4cd21550137e4894bc6d8eb2a0ecf905",
       "version_major": 2,
       "version_minor": 0
      },
      "text/plain": [
       "HBox(children=(HTML(value=''), FloatProgress(value=0.0), HTML(value='')))"
      ]
     },
     "metadata": {},
     "output_type": "display_data"
    },
    {
     "name": "stdout",
     "output_type": "stream",
     "text": [
      "\n"
     ]
    }
   ],
   "source": [
    "for page in range (0, 2):\n",
    "    vacancies = res.json()\n",
    "    num_pages = vacancies.get('pages')\n",
    "    vacancy_ids = [el.get('id') for el in vacancies.get('items')]\n",
    "    a = vacancies['items']\n",
    "    adict = {'name':[],'snippet':[],'published_at':[]}\n",
    "    for a in tqdm(a):     \n",
    "        adict['name'].append(a['name'])\n",
    "        adict['snippet'].append(a['snippet'])\n",
    "        adict['published_at'].append(a['published_at'])\n",
    "    \n"
   ]
  },
  {
   "cell_type": "code",
   "execution_count": 287,
   "metadata": {},
   "outputs": [],
   "source": [
    "rn = pd.DataFrame.from_dict(adict)"
   ]
  },
  {
   "cell_type": "code",
   "execution_count": null,
   "metadata": {},
   "outputs": [],
   "source": []
  },
  {
   "cell_type": "code",
   "execution_count": 288,
   "metadata": {},
   "outputs": [
    {
     "data": {
      "text/html": [
       "<div>\n",
       "<style scoped>\n",
       "    .dataframe tbody tr th:only-of-type {\n",
       "        vertical-align: middle;\n",
       "    }\n",
       "\n",
       "    .dataframe tbody tr th {\n",
       "        vertical-align: top;\n",
       "    }\n",
       "\n",
       "    .dataframe thead th {\n",
       "        text-align: right;\n",
       "    }\n",
       "</style>\n",
       "<table border=\"1\" class=\"dataframe\">\n",
       "  <thead>\n",
       "    <tr style=\"text-align: right;\">\n",
       "      <th></th>\n",
       "      <th>name</th>\n",
       "      <th>snippet</th>\n",
       "      <th>published_at</th>\n",
       "    </tr>\n",
       "  </thead>\n",
       "  <tbody>\n",
       "    <tr>\n",
       "      <th>0</th>\n",
       "      <td>Разработчик Java</td>\n",
       "      <td>{'requirement': 'Экспертный уровень core Java ...</td>\n",
       "      <td>2021-04-05T08:40:15+0300</td>\n",
       "    </tr>\n",
       "    <tr>\n",
       "      <th>1</th>\n",
       "      <td>Администратор IT систем / SRE (команда SberDev...</td>\n",
       "      <td>{'requirement': 'Уверенные знания Linux. Опыт ...</td>\n",
       "      <td>2021-04-04T23:03:32+0300</td>\n",
       "    </tr>\n",
       "    <tr>\n",
       "      <th>2</th>\n",
       "      <td>IOS developer (Sber ID)</td>\n",
       "      <td>{'requirement': 'Знание языка Objective-C (зна...</td>\n",
       "      <td>2021-04-06T17:21:05+0300</td>\n",
       "    </tr>\n",
       "    <tr>\n",
       "      <th>3</th>\n",
       "      <td>IOS developer (Зарплатный проект)</td>\n",
       "      <td>{'requirement': 'Использовать современные подх...</td>\n",
       "      <td>2021-04-06T17:21:05+0300</td>\n",
       "    </tr>\n",
       "    <tr>\n",
       "      <th>4</th>\n",
       "      <td>Аналитик/разработчик DWH</td>\n",
       "      <td>{'requirement': 'Высшее техническое или физико...</td>\n",
       "      <td>2021-04-05T08:40:15+0300</td>\n",
       "    </tr>\n",
       "    <tr>\n",
       "      <th>...</th>\n",
       "      <td>...</td>\n",
       "      <td>...</td>\n",
       "      <td>...</td>\n",
       "    </tr>\n",
       "    <tr>\n",
       "      <th>95</th>\n",
       "      <td>Руководитель направления (Правовой Департамент...</td>\n",
       "      <td>{'requirement': 'Высшее юридическое образовани...</td>\n",
       "      <td>2021-03-18T13:03:53+0300</td>\n",
       "    </tr>\n",
       "    <tr>\n",
       "      <th>96</th>\n",
       "      <td>Руководитель направления (кредитная стратегия ...</td>\n",
       "      <td>{'requirement': 'Опыт работы с анализом данных...</td>\n",
       "      <td>2021-04-06T14:35:40+0300</td>\n",
       "    </tr>\n",
       "    <tr>\n",
       "      <th>97</th>\n",
       "      <td>Python разработчик SberDevices</td>\n",
       "      <td>{'requirement': 'Владение Python3 на уверенном...</td>\n",
       "      <td>2021-03-29T13:28:09+0300</td>\n",
       "    </tr>\n",
       "    <tr>\n",
       "      <th>98</th>\n",
       "      <td>Python разработчик (SberDevices)</td>\n",
       "      <td>{'requirement': 'Владение Python3 на высоком у...</td>\n",
       "      <td>2021-03-29T13:28:07+0300</td>\n",
       "    </tr>\n",
       "    <tr>\n",
       "      <th>99</th>\n",
       "      <td>Python разработчик в SberDevices (направление ...</td>\n",
       "      <td>{'requirement': 'опыт промышленной разработки ...</td>\n",
       "      <td>2021-03-29T13:28:05+0300</td>\n",
       "    </tr>\n",
       "  </tbody>\n",
       "</table>\n",
       "<p>100 rows × 3 columns</p>\n",
       "</div>"
      ],
      "text/plain": [
       "                                                 name  \\\n",
       "0                                    Разработчик Java   \n",
       "1   Администратор IT систем / SRE (команда SberDev...   \n",
       "2                             IOS developer (Sber ID)   \n",
       "3                   IOS developer (Зарплатный проект)   \n",
       "4                            Аналитик/разработчик DWH   \n",
       "..                                                ...   \n",
       "95  Руководитель направления (Правовой Департамент...   \n",
       "96  Руководитель направления (кредитная стратегия ...   \n",
       "97                     Python разработчик SberDevices   \n",
       "98                   Python разработчик (SberDevices)   \n",
       "99  Python разработчик в SberDevices (направление ...   \n",
       "\n",
       "                                              snippet  \\\n",
       "0   {'requirement': 'Экспертный уровень core Java ...   \n",
       "1   {'requirement': 'Уверенные знания Linux. Опыт ...   \n",
       "2   {'requirement': 'Знание языка Objective-C (зна...   \n",
       "3   {'requirement': 'Использовать современные подх...   \n",
       "4   {'requirement': 'Высшее техническое или физико...   \n",
       "..                                                ...   \n",
       "95  {'requirement': 'Высшее юридическое образовани...   \n",
       "96  {'requirement': 'Опыт работы с анализом данных...   \n",
       "97  {'requirement': 'Владение Python3 на уверенном...   \n",
       "98  {'requirement': 'Владение Python3 на высоком у...   \n",
       "99  {'requirement': 'опыт промышленной разработки ...   \n",
       "\n",
       "                published_at  \n",
       "0   2021-04-05T08:40:15+0300  \n",
       "1   2021-04-04T23:03:32+0300  \n",
       "2   2021-04-06T17:21:05+0300  \n",
       "3   2021-04-06T17:21:05+0300  \n",
       "4   2021-04-05T08:40:15+0300  \n",
       "..                       ...  \n",
       "95  2021-03-18T13:03:53+0300  \n",
       "96  2021-04-06T14:35:40+0300  \n",
       "97  2021-03-29T13:28:09+0300  \n",
       "98  2021-03-29T13:28:07+0300  \n",
       "99  2021-03-29T13:28:05+0300  \n",
       "\n",
       "[100 rows x 3 columns]"
      ]
     },
     "execution_count": 288,
     "metadata": {},
     "output_type": "execute_result"
    }
   ],
   "source": [
    "rn"
   ]
  },
  {
   "cell_type": "code",
   "execution_count": null,
   "metadata": {},
   "outputs": [],
   "source": []
  },
  {
   "cell_type": "code",
   "execution_count": null,
   "metadata": {},
   "outputs": [],
   "source": []
  }
 ],
 "metadata": {
  "kernelspec": {
   "display_name": "Python 3",
   "language": "python",
   "name": "python3"
  },
  "language_info": {
   "codemirror_mode": {
    "name": "ipython",
    "version": 3
   },
   "file_extension": ".py",
   "mimetype": "text/x-python",
   "name": "python",
   "nbconvert_exporter": "python",
   "pygments_lexer": "ipython3",
   "version": "3.8.5"
  }
 },
 "nbformat": 4,
 "nbformat_minor": 4
}
